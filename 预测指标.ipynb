{
 "cells": [
  {
   "cell_type": "markdown",
   "id": "dd686047",
   "metadata": {},
   "source": [
    "adfuller单位根检验数据平稳性\n",
    "输出结果中：\n",
    "第一个是adt检验的结果，简称为T值，表示t统计量。\n",
    "第二个简称为p值，表示t统计量对应的概率值。\n",
    "第三个表示延迟。\n",
    "第四个表示测试的次数。\n",
    "第五个是配合第一个一起看的，是在99%，95%，90%置信区间下的临界的ADF检验的值。\n",
    "\n",
    "第一点，1%、5%、10%不同程度拒绝原假设的统计值和ADF Test result的比较，ADF Test result同时小于1%、5%、10%即说明非常好地拒绝该假设。\n",
    "第二点，p值要求小于给定的显著水平，p值要小于0.05，等于0是最好的。 ADF检验的原假设是存在单位根，只要这个统计值是小于1%水平下的数字就可以极显著的拒绝原假设，认为数据平稳。注意，ADF值一般是负的，也有正的，但是它只有小于1%水平下的才能认为是及其显著的拒绝原假设。\n",
    "（原假设为不是平稳时间序列)"
   ]
  },
  {
   "cell_type": "code",
   "execution_count": null,
   "id": "c54e5db4",
   "metadata": {},
   "outputs": [],
   "source": [
    "from statsmodels.tsa.stattools import adfuller\n",
    "print(adfuller(data))  # 原始数据\n",
    "print(adfuller(diff_df['diff_1'].dropna()))  # 一阶差分\n",
    "print(adfuller(diff_df['diff_2'].dropna()))  # 二阶差分\n",
    "print(adfuller(diff_df['diff_3'].dropna()))  # 三阶差分"
   ]
  },
  {
   "cell_type": "markdown",
   "id": "f21f8787",
   "metadata": {},
   "source": [
    "原始数据的P值>0.05所以不满足平稳性要求\n",
    "一阶差分的P值<0.05，且T值小于1%，5%，10%下的统计值，可以极显著的拒绝原假设，说明数据是平稳的。\n",
    "一阶差分数据已经平稳就无需继续做二阶差分了。"
   ]
  },
  {
   "cell_type": "code",
   "execution_count": 1,
   "id": "a558c2a0",
   "metadata": {},
   "outputs": [
    {
     "ename": "NameError",
     "evalue": "name 'data_diff' is not defined",
     "output_type": "error",
     "traceback": [
      "\u001b[1;31m---------------------------------------------------------------------------\u001b[0m",
      "\u001b[1;31mNameError\u001b[0m                                 Traceback (most recent call last)",
      "\u001b[1;32m~\\AppData\\Local\\Temp/ipykernel_684/2044209028.py\u001b[0m in \u001b[0;36m<module>\u001b[1;34m\u001b[0m\n\u001b[0;32m      1\u001b[0m \u001b[1;32mfrom\u001b[0m \u001b[0mstatsmodels\u001b[0m\u001b[1;33m.\u001b[0m\u001b[0mstats\u001b[0m\u001b[1;33m.\u001b[0m\u001b[0mdiagnostic\u001b[0m \u001b[1;32mimport\u001b[0m \u001b[0macorr_ljungbox\u001b[0m\u001b[1;33m\u001b[0m\u001b[1;33m\u001b[0m\u001b[0m\n\u001b[1;32m----> 2\u001b[1;33m \u001b[0macorr_ljungbox\u001b[0m\u001b[1;33m(\u001b[0m\u001b[0mdata_diff\u001b[0m\u001b[1;33m,\u001b[0m \u001b[0mlags\u001b[0m \u001b[1;33m=\u001b[0m \u001b[1;36m20\u001b[0m\u001b[1;33m)\u001b[0m\u001b[1;33m\u001b[0m\u001b[1;33m\u001b[0m\u001b[0m\n\u001b[0m",
      "\u001b[1;31mNameError\u001b[0m: name 'data_diff' is not defined"
     ]
    }
   ],
   "source": [
    "from statsmodels.stats.diagnostic import acorr_ljungbox\n",
    "acorr_ljungbox(data_diff, lags = 20)"
   ]
  },
  {
   "cell_type": "markdown",
   "id": "e95a4f81",
   "metadata": {},
   "source": [
    "acorr_ljungbox输出结果的第二项为基于卡方分布的p统计量，一阶差分的P值都很小，所以该数据拒绝原假设，即认为该数据不是纯随机数据\n",
    "不是纯随机数才可以做时间序列分析"
   ]
  },
  {
   "cell_type": "markdown",
   "id": "c6763bfc",
   "metadata": {},
   "source": [
    "观察法选择p,q\n",
    "模型\tACF\tPACF\n",
    "AR(p)\t衰减趋于零(几何型或振荡型)\tp阶后截尾\n",
    "MA(q)\tq阶后截尾\t衰减趋于零(几何型或振荡型)\n",
    "ARMA(p,q)\tq阶后衰减趋于零(几何型或振荡型)\tp阶后衰减趋于零(几何型或振荡型)\n",
    "截尾:落在置信区间内( 95%的点都符合该规则)"
   ]
  },
  {
   "cell_type": "code",
   "execution_count": 2,
   "id": "1c6e72d2",
   "metadata": {},
   "outputs": [
    {
     "ename": "NameError",
     "evalue": "name 'data_diff' is not defined",
     "output_type": "error",
     "traceback": [
      "\u001b[1;31m---------------------------------------------------------------------------\u001b[0m",
      "\u001b[1;31mNameError\u001b[0m                                 Traceback (most recent call last)",
      "\u001b[1;32m~\\AppData\\Local\\Temp/ipykernel_684/3216179969.py\u001b[0m in \u001b[0;36m<module>\u001b[1;34m\u001b[0m\n\u001b[0;32m      1\u001b[0m \u001b[1;32mfrom\u001b[0m \u001b[0mstatsmodels\u001b[0m\u001b[1;33m.\u001b[0m\u001b[0mgraphics\u001b[0m\u001b[1;33m.\u001b[0m\u001b[0mtsaplots\u001b[0m \u001b[1;32mimport\u001b[0m \u001b[0mplot_acf\u001b[0m\u001b[1;33m,\u001b[0m \u001b[0mplot_pacf\u001b[0m\u001b[1;33m\u001b[0m\u001b[1;33m\u001b[0m\u001b[0m\n\u001b[1;32m----> 2\u001b[1;33m \u001b[0mpacf\u001b[0m \u001b[1;33m=\u001b[0m \u001b[0mplot_pacf\u001b[0m\u001b[1;33m(\u001b[0m\u001b[0mdata_diff\u001b[0m\u001b[1;33m,\u001b[0m \u001b[0mlags\u001b[0m\u001b[1;33m=\u001b[0m\u001b[1;36m40\u001b[0m\u001b[1;33m)\u001b[0m\u001b[1;33m\u001b[0m\u001b[1;33m\u001b[0m\u001b[0m\n\u001b[0m\u001b[0;32m      3\u001b[0m \u001b[0mplt\u001b[0m\u001b[1;33m.\u001b[0m\u001b[0mtitle\u001b[0m\u001b[1;33m(\u001b[0m\u001b[1;34m'PACF'\u001b[0m\u001b[1;33m)\u001b[0m\u001b[1;33m\u001b[0m\u001b[1;33m\u001b[0m\u001b[0m\n\u001b[0;32m      4\u001b[0m \u001b[0mplt\u001b[0m\u001b[1;33m.\u001b[0m\u001b[0msavefig\u001b[0m\u001b[1;33m(\u001b[0m\u001b[1;34m'PACF图.png'\u001b[0m\u001b[1;33m)\u001b[0m\u001b[1;33m\u001b[0m\u001b[1;33m\u001b[0m\u001b[0m\n\u001b[0;32m      5\u001b[0m \u001b[0mpacf\u001b[0m\u001b[1;33m.\u001b[0m\u001b[0mshow\u001b[0m\u001b[1;33m(\u001b[0m\u001b[1;33m)\u001b[0m\u001b[1;33m\u001b[0m\u001b[1;33m\u001b[0m\u001b[0m\n",
      "\u001b[1;31mNameError\u001b[0m: name 'data_diff' is not defined"
     ]
    }
   ],
   "source": [
    "from statsmodels.graphics.tsaplots import plot_acf, plot_pacf\n",
    "pacf = plot_pacf(data_diff, lags=40)\n",
    "plt.title('PACF')\n",
    "plt.savefig('PACF图.png')\n",
    "pacf.show()\n",
    "acf = plot_acf(data_diff, lags=40)\n",
    "plt.title('ACF')\n",
    "plt.savefig('ACF图.png')\n",
    "acf.show()"
   ]
  },
  {
   "cell_type": "code",
   "execution_count": null,
   "id": "6fd7f506",
   "metadata": {},
   "outputs": [],
   "source": []
  }
 ],
 "metadata": {
  "kernelspec": {
   "display_name": "Python 3 (ipykernel)",
   "language": "python",
   "name": "python3"
  },
  "language_info": {
   "codemirror_mode": {
    "name": "ipython",
    "version": 3
   },
   "file_extension": ".py",
   "mimetype": "text/x-python",
   "name": "python",
   "nbconvert_exporter": "python",
   "pygments_lexer": "ipython3",
   "version": "3.7.11"
  }
 },
 "nbformat": 4,
 "nbformat_minor": 5
}
