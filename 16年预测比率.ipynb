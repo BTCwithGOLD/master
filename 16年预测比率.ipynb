{
 "cells": [
  {
   "cell_type": "code",
   "execution_count": 1,
   "metadata": {},
   "outputs": [],
   "source": [
    "import pandas as pd\n",
    "import numpy as np\n",
    "import statsmodels.api as sm\n",
    "import scipy.stats as scs\n",
    "import matplotlib.pyplot as plt\n",
    "import scipy.optimize as sco\n"
   ]
  },
  {
   "cell_type": "code",
   "execution_count": 2,
   "metadata": {},
   "outputs": [],
   "source": [
    "df = pd.read_csv('16Bitcoin.csv',index_col = 'Date',usecols = [0,1])"
   ]
  },
  {
   "cell_type": "code",
   "execution_count": null,
   "metadata": {},
   "outputs": [],
   "source": [
    "df2 = pd.read_csv('16GOLD.csv',index_col = 'Date',usecols = [0,1])"
   ]
  },
  {
   "cell_type": "code",
   "execution_count": null,
   "metadata": {},
   "outputs": [],
   "source": [
    "df3=pd.merge(df,df2,how='left',left_on='Date',right_on='Date')"
   ]
  },
  {
   "cell_type": "code",
   "execution_count": null,
   "metadata": {},
   "outputs": [],
   "source": [
    "returns =np.log(df3 / df3.shift(1))\n",
    "print (returns)\n",
    "print(\"每日收益平均值\")\n",
    "print (returns.mean())\n",
    "print (32*\"-\")\n",
    "print(\"年化收益\")\n",
    "print (returns.mean()*365)\n",
    "print (32*\"-\")\n",
    "print(\"相关系数\")\n",
    "print (returns.corr())#计算相关系数\n",
    "print (32*\"-\")\n",
    "print (\"协方差\")\n",
    "print (returns.cov()*365)\n",
    "print (32*\"-\")\n",
    "returns.hist(bins = 50, figsize = (12,8))"
   ]
  },
  {
   "cell_type": "code",
   "execution_count": null,
   "metadata": {},
   "outputs": [],
   "source": [
    "weights = np.random.random(2)\n",
    "weights /= np.sum(weights)\n",
    "print ('初始化权重',weights)\n",
    "#计算预期组合年化收益、组合方差和组合标准差\n",
    "print ('初始权重收益',np.sum(returns.mean()*weights)*365)\n",
    "print ('初始权重组合方差',np.dot(weights.T, np.dot(returns.cov()*365,weights)))\n",
    "print ('初始权重组合标准差',np.sqrt(np.dot(weights.T, np.dot(returns.cov()* 365,weights))))"
   ]
  },
  {
   "cell_type": "code",
   "execution_count": null,
   "metadata": {},
   "outputs": [],
   "source": [
    "port_returns = []\n",
    "port_variance = []\n",
    "for p in range(4000):\n",
    "    weights = np.random.random(2)\n",
    "    weights /=np.sum(weights)\n",
    "    port_returns.append(np.sum(returns.mean()*364*weights))\n",
    "    port_variance.append(np.sqrt(np.dot(weights.T, np.dot(returns.cov()*364, weights))))\n",
    "port_returns = np.array(port_returns)\n",
    "port_variance = np.array(port_variance)"
   ]
  },
  {
   "cell_type": "code",
   "execution_count": null,
   "metadata": {},
   "outputs": [],
   "source": [
    "#投资组合优化1——sharpe最大\n",
    "#建立statistics函数来记录重要的投资组合统计数据（收益，方差和夏普比）\n",
    "#通过对约束最优问题的求解，得到最优解。其中约束是权重总和为1。\n",
    "print (32*\"-\")\n",
    "print (\"投资组合优化方法1--sharpe值最大\")\n",
    "def statistics(weights):\n",
    "    weights = np.array(weights)\n",
    "    port_returns = np.sum(returns.mean()*weights)*365\n",
    "    port_variance = np.sqrt(np.dot(weights.T, np.dot(returns.cov()*365,weights)))\n",
    "    return np.array([port_returns, port_variance, port_returns/port_variance])\n",
    "#最优化投资组合的推导是一个约束最优化问题\n",
    "#最小化夏普指数的负值\n",
    "def min_sharpe(weights):\n",
    "    return -statistics(weights)[2]\n",
    "#约束是所有参数(权重)的总和为1。这可以用minimize函数的约定表达如下\n",
    "cons = ({'type':'eq', 'fun':lambda x: np.sum(x)-1})\n",
    "#我们还将参数值(权重)限制在0和1之间。这些值以多个元组组成的一个元组形式提供给最小化函数\n",
    "bnds = tuple((0,1) for x in range(2))\n",
    "#优化函数调用中忽略的唯一输入是起始参数列表(对权重的初始猜测)。我们简单的使用平均分布。\n",
    "opts = sco.minimize(min_sharpe, 2*[1./2,], method = 'SLSQP', bounds = bnds, constraints = cons)\n",
    "print (opts)\n",
    "print (\"权重\",opts['x'].round(3))\n",
    "#预期收益率、预期波动率、最优夏普指数\n",
    "print ('最大sharpe指数预期收益' , statistics(opts['x']).round(3))\n",
    "print (32*\"-\")"
   ]
  },
  {
   "cell_type": "code",
   "execution_count": null,
   "metadata": {},
   "outputs": [],
   "source": [
    "print (\"投资组合优化方法2--方差最小\")\n",
    "#投资组合优化2——方差最小\n",
    "#接下来，我们通过方差最小来选出最优投资组合。\n",
    "#我们定义一个函数对 方差进行最小化\n",
    "def min_variance(weights):\n",
    "    return statistics(weights)[1]\n",
    "optv = sco.minimize(min_variance, 2*[1./2,],method = 'SLSQP', bounds = bnds, constraints = cons)\n",
    "print (optv)\n",
    "print (\"权重\",optv['x'].round(3))\n",
    "#得到的预期收益率、波动率和夏普指数\n",
    "print ('最小方差预期收益' , statistics(optv['x']).round(3))\n",
    "#组合的有效前沿\n",
    "#有效前沿有既定的目标收益率下方差最小的投资组合构成。\n",
    "#在不同目标收益率水平（target_returns）循环时，最小化的一个约束条件会变化。\n",
    "target_returns = np.linspace(0.0,0.5,50)\n",
    "target_variance = []\n",
    "for tar in target_returns:\n",
    "    cons = ({'type':'eq','fun':lambda x:statistics(x)[0]-tar},{'type':'eq','fun':lambda x:np.sum(x)-1})\n",
    "    res = sco.minimize(min_variance, 2*[1./2,],method = 'SLSQP', bounds = bnds, constraints = cons)\n",
    "    target_variance.append(res['fun'])\n",
    "target_variance = np.array(target_variance)"
   ]
  }
 ],
 "metadata": {
  "kernelspec": {
   "display_name": "Python 3 (ipykernel)",
   "language": "python",
   "name": "python3"
  },
  "language_info": {
   "codemirror_mode": {
    "name": "ipython",
    "version": 3
   },
   "file_extension": ".py",
   "mimetype": "text/x-python",
   "name": "python",
   "nbconvert_exporter": "python",
   "pygments_lexer": "ipython3",
   "version": "3.7.11"
  }
 },
 "nbformat": 4,
 "nbformat_minor": 4
}
